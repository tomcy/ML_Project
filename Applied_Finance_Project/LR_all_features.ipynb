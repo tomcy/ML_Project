{
 "cells": [
  {
   "cell_type": "markdown",
   "metadata": {},
   "source": [
    "Using logistic regression on all variables availble:\n",
    "* we delete sevaral column by the following criterias:\n",
    "    * over 10% of data are nan or na\n",
    "    * column with string value\n",
    "    * meaningless column: analyticsmatchkey\n",
    "* then delete the row with nan value in any column\n",
    "* split data into training data and testing data\n",
    "* run logistic regression using all variebles left and training data\n",
    "* then test the result on test data"
   ]
  },
  {
   "cell_type": "markdown",
   "metadata": {},
   "source": [
    "Result:\n",
    "* we can see the accuracy for training data is 72.7% and drop to 66.1% in testing data which is reasonable\n",
    "* we can imporve the result by choosing important features using PCA in the future\n",
    "* if we select the most 50 features by f value, we get \n",
    "        ['LINKT001', 'LINKT004', 'AADM10', 'AADM12', 'AADM11', 'AADM13',\n",
    "       'at103s', 'bc02s', 'bc36s', 'br02s', 'br36s', 'g051s', 'g212s', 'g215a',\n",
    "       'g215b', 'g224b', 'g224c', 'g228s', 'g230s', 'g250b', 'g250c', 'g251b',\n",
    "       'g251c', 'g305s', 'g960s', 're02s', 're03s', 're12s', 're24s', 's062s',\n",
    "       's068b', 's071a', 's071b', 's073a', 's073b', 'trv07', 'trv08', 'trv10',\n",
    "       'rvlr07', 'rvlr08', 'rvlr09', 'paymnt10', 'paymnt11', 'cv13', 'cv14',\n",
    "       'CV_Auto', 'CV_NA', 'CV_BK', 'Vtg3', 'MSCORE']\n",
    "* the accuracy becomes 69.2% in training data and after features selection"
   ]
  },
  {
   "cell_type": "code",
   "execution_count": 29,
   "metadata": {
    "collapsed": true
   },
   "outputs": [],
   "source": [
    "import pandas as pd\n",
    "import numpy as np\n",
    "import matplotlib.pyplot as plt\n",
    "from sklearn import linear_model, datasets\n",
    "train_data = pd.read_csv(\"training_data.csv\")\n",
    "test_data = pd.read_csv(\"testing_data.csv\")"
   ]
  },
  {
   "cell_type": "code",
   "execution_count": 30,
   "metadata": {
    "collapsed": false
   },
   "outputs": [
    {
     "name": "stdout",
     "output_type": "stream",
     "text": [
      "The accuracy rate on training data is  0.728989612842\n",
      "The accurary rate on test data is  0.657121879589\n"
     ]
    }
   ],
   "source": [
    "logreg = linear_model.LogisticRegression(C=1e5)\n",
    "X = train_data.iloc[:, :-1]\n",
    "Y = train_data.iloc[:, -1]\n",
    "logreg.fit(X, Y)\n",
    "# check the accuracy on the training set\n",
    "print(\"The accuracy rate on training data is \", logreg.score(X, Y))\n",
    "# test on test data\n",
    "print(\"The accurary rate on test data is \", logreg.score(test_data.iloc[:, :-1], test_data.iloc[:, -1]))"
   ]
  },
  {
   "cell_type": "code",
   "execution_count": 31,
   "metadata": {
    "collapsed": false
   },
   "outputs": [
    {
     "data": {
      "text/plain": [
       "array([[  1.78533896e-05,   1.06459227e-04,   5.17117250e-06, ...,\n",
       "         -4.41652328e-06,  -4.13798430e-05,   4.70469059e-05]])"
      ]
     },
     "execution_count": 31,
     "metadata": {},
     "output_type": "execute_result"
    }
   ],
   "source": [
    "# examine the coefficients\n",
    "logreg.coef_"
   ]
  },
  {
   "cell_type": "code",
   "execution_count": 32,
   "metadata": {
    "collapsed": false
   },
   "outputs": [],
   "source": [
    "# select the most important 20 factors\n",
    "from sklearn.feature_selection import SelectKBest\n",
    "from sklearn.feature_selection import f_classif\n",
    "X_new = SelectKBest(f_classif, k=50)\n",
    "X_new.fit_transform(X, Y)\n",
    "\n",
    "Y = train_data.iloc[:, -1]\n",
    "train_data = train_data.loc[:, X_new.get_support()]"
   ]
  },
  {
   "cell_type": "code",
   "execution_count": 33,
   "metadata": {
    "collapsed": false
   },
   "outputs": [
    {
     "data": {
      "text/plain": [
       "Index(['LINKT001', 'LINKT004', 'AADM10', 'AADM12', 'AADM11', 'AADM13',\n",
       "       'at103s', 'bc02s', 'bc03s', 'bc36s', 'br01s', 'br02s', 'br03s', 'br36s',\n",
       "       'g051s', 'g212s', 'g215a', 'g215b', 'g224c', 'g250c', 'g251b', 'g251c',\n",
       "       're01s', 're02s', 're03s', 're12s', 're29s', 's062s', 's068b', 's071a',\n",
       "       's071b', 's073a', 's073b', 'trv07', 'trv08', 'trv10', 'rvlr07',\n",
       "       'rvlr08', 'rvlr09', 'paymnt10', 'paymnt11', 'cv13', 'walshrs2',\n",
       "       'bcpmtnum', 'CV_Auto', 'CV_NA', 'CV_BK', 'Vtg3', 'FICO08_Auto',\n",
       "       'MSCORE'],\n",
       "      dtype='object')"
      ]
     },
     "execution_count": 33,
     "metadata": {},
     "output_type": "execute_result"
    }
   ],
   "source": [
    "train_data.columns"
   ]
  },
  {
   "cell_type": "code",
   "execution_count": 34,
   "metadata": {
    "collapsed": false
   },
   "outputs": [
    {
     "name": "stdout",
     "output_type": "stream",
     "text": [
      "The accuracy rate on training data is  0.69468051621\n",
      "The accuracy rate on test data is  0.68281938326\n"
     ]
    }
   ],
   "source": [
    "logreg3 = linear_model.LogisticRegression(C=1e5)\n",
    "X = train_data\n",
    "logreg3.fit(X, Y)\n",
    "# check the accuracy on the training set\n",
    "print(\"The accuracy rate on training data is \", logreg3.score(X, Y))\n",
    "# check the accuracy on the test set\n",
    "Y = test_data.iloc[:, -1]\n",
    "X = test_data.loc[:, X_new.get_support()]\n",
    "print(\"The accuracy rate on test data is \", logreg3.score(X, Y))"
   ]
  }
 ],
 "metadata": {
  "anaconda-cloud": {},
  "kernelspec": {
   "display_name": "Python 3",
   "language": "python",
   "name": "python3"
  },
  "language_info": {
   "codemirror_mode": {
    "name": "ipython",
    "version": 3
   },
   "file_extension": ".py",
   "mimetype": "text/x-python",
   "name": "python",
   "nbconvert_exporter": "python",
   "pygments_lexer": "ipython3",
   "version": "3.6.0"
  }
 },
 "nbformat": 4,
 "nbformat_minor": 0
}
