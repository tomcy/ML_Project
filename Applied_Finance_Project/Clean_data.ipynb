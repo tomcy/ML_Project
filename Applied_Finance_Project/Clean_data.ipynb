{
 "cells": [
  {
   "cell_type": "markdown",
   "metadata": {},
   "source": [
    "* The main purpose of thie code is to read the data from csv file and classify the data into two different categories: good record and bad record. Actually most of the samples are irrelevent for example the clients walk away after requesting.  \n",
    "* After cleaning the data has 3167 good records and 1805 bad records and totally 4972 records with 1070 features. \n",
    "* We then seperate the data into training data and test data with ratio 0.7 and 0.3 randomly.\n",
    "* Finally, output as csv file for future usage."
   ]
  },
  {
   "cell_type": "code",
   "execution_count": 2,
   "metadata": {
    "collapsed": false
   },
   "outputs": [
    {
     "name": "stderr",
     "output_type": "stream",
     "text": [
      "C:\\Anaconda3\\lib\\site-packages\\IPython\\core\\interactiveshell.py:2717: DtypeWarning: Columns (127,128,129,1022,1023,1212,1214) have mixed types. Specify dtype option on import or set low_memory=False.\n",
      "  interactivity=interactivity, compiler=compiler, result=result)\n"
     ]
    }
   ],
   "source": [
    "# cleaning data\n",
    "# The file included declines, walkaways, and booked accounts\n",
    "# keep: Flags = funded or repayment\n",
    "import pandas as pd\n",
    "import numpy as np\n",
    "data = pd.read_csv(\".\\data\\PRM.EDTOUT.DGMMOTOL.CUSTCVL2  Credit Auto.csv\")\n",
    "data = data.loc[(data.loc[:, 'FLAGS'] == 'funded') | (data.loc[:, 'FLAGS'] == 'repayment'), :]\n",
    "data.to_csv(\"Observations.csv\", index=False)"
   ]
  },
  {
   "cell_type": "code",
   "execution_count": 3,
   "metadata": {
    "collapsed": false
   },
   "outputs": [
    {
     "name": "stdout",
     "output_type": "stream",
     "text": [
      "Total size after cleaning  (4972, 1070)\n",
      "good size =  (3167, 1070)\n",
      "bad size =  (1805, 1070)\n"
     ]
    }
   ],
   "source": [
    "# seperate data into two buckets depends on states of performance\n",
    "good = ['1-30 DPD', 'Current', 'Paid', 'Matured']\n",
    "bad = ['Balance Owed', 'Assigned for Repossession', 'Recovered', '90+ DPD', 'Bankruptcy']\n",
    "for item in good:\n",
    "    data.loc[data.loc[:, 'PERFORMANCE'] == item, 'default'] = 0\n",
    "for item in bad:\n",
    "    data.loc[data.loc[:, 'PERFORMANCE'] == item, 'default'] = 1  \n",
    "data = data.loc[((data.loc[:, 'default'] == 0) | (data.loc[:, 'default'] == 1)), :]\n",
    "\n",
    "# delete column if over 90% are the same or nan\n",
    "row_num = data.shape[0]\n",
    "for col_name in data.columns.tolist():\n",
    "    non_nan = data.loc[:, col_name].count()\n",
    "    if non_nan < row_num * 0.9:\n",
    "        data = data.drop(col_name, 1)\n",
    "# delete non meaningful column( for example: \"analyticsmatchkey\")\n",
    "data = data.drop('analyticsmatchkey', 1)\n",
    "\n",
    "print(\"Total size after cleaning \", data.shape)\n",
    "print(\"good size = \", data.loc[data.loc[:, 'default'] == 0, :].shape)\n",
    "print(\"bad size = \", data.loc[data.loc[:, 'default'] == 1, :].shape)"
   ]
  },
  {
   "cell_type": "code",
   "execution_count": 4,
   "metadata": {
    "collapsed": true
   },
   "outputs": [],
   "source": [
    "# delete all column with string data type\n",
    "for col_name in data.columns.tolist():\n",
    "    if data.loc[:, col_name].dtype == 'object':\n",
    "        data = data.drop(col_name, 1)\n",
    "# clean all row with nan value\n",
    "data.dropna(inplace=True)"
   ]
  },
  {
   "cell_type": "code",
   "execution_count": 5,
   "metadata": {
    "collapsed": false
   },
   "outputs": [
    {
     "name": "stdout",
     "output_type": "stream",
     "text": [
      "Number of training data =  3177\n",
      "Nuber of testing data =  1362\n"
     ]
    }
   ],
   "source": [
    "# seperate for training data and testing data\n",
    "train_data = data.sample(frac=0.7)\n",
    "train_data.sort_index(inplace=True)\n",
    "test_data = data[~data.index.isin(train_data.index)]\n",
    "print(\"Number of training data = \", len(train_data))\n",
    "print(\"Nuber of testing data = \", len(test_data))\n",
    "train_data.to_csv('training_data.csv', index=False)\n",
    "test_data.to_csv('testing_data.csv', index=False)"
   ]
  },
  {
   "cell_type": "code",
   "execution_count": null,
   "metadata": {
    "collapsed": true
   },
   "outputs": [],
   "source": []
  }
 ],
 "metadata": {
  "anaconda-cloud": {},
  "kernelspec": {
   "display_name": "Python 3",
   "language": "python",
   "name": "python3"
  },
  "language_info": {
   "codemirror_mode": {
    "name": "ipython",
    "version": 3
   },
   "file_extension": ".py",
   "mimetype": "text/x-python",
   "name": "python",
   "nbconvert_exporter": "python",
   "pygments_lexer": "ipython3",
   "version": "3.6.0"
  }
 },
 "nbformat": 4,
 "nbformat_minor": 0
}
